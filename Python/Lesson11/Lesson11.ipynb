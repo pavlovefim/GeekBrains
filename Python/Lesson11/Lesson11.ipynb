{
 "cells": [
  {
   "cell_type": "markdown",
   "id": "af798e83",
   "metadata": {},
   "source": [
    "f(x) = -12x^4*sin(cos(x)) - 18x^3+5x^2 + 10x - 30\n",
    "\n",
    "Определить корни\n",
    "\n",
    "Найти интервалы, на которых функция возрастает\n",
    "\n",
    "Найти интервалы, на которых функция убывает\n",
    "\n",
    "Построить график\n",
    "\n",
    "Вычислить вершину\n",
    "\n",
    "Определить промежутки, на котором f > 0\n",
    "\n",
    "Определить промежутки, на котором f < 0"
   ]
  },
  {
   "cell_type": "code",
   "execution_count": 1,
   "id": "676094ab",
   "metadata": {},
   "outputs": [],
   "source": [
    "import sympy\n",
    "import matplotlib.pyplot as plt\n",
    "import numpy as np\n",
    "from sympy import symbols\n",
    "from sympy import solveset\n",
    "from sympy.abc import x\n",
    "from sympy import sin, cos, pi\n",
    "import pylab"
   ]
  },
  {
   "cell_type": "markdown",
   "id": "532cf66f",
   "metadata": {},
   "source": [
    "Определить корни"
   ]
  },
  {
   "cell_type": "code",
   "execution_count": 2,
   "id": "08f7b062",
   "metadata": {},
   "outputs": [],
   "source": [
    "x = sympy.symbols('x')"
   ]
  },
  {
   "cell_type": "code",
   "execution_count": 3,
   "id": "434021b7",
   "metadata": {},
   "outputs": [],
   "source": [
    "f = -12*(x**4)*sin(cos(x)) - 18*x**3 + 5*x**2 + 10*x - 30"
   ]
  },
  {
   "cell_type": "code",
   "execution_count": 4,
   "id": "a40d32dd",
   "metadata": {},
   "outputs": [],
   "source": [
    "ans = solveset(f)"
   ]
  },
  {
   "cell_type": "markdown",
   "id": "40efc672",
   "metadata": {},
   "source": [
    "ans - корни уравнения"
   ]
  },
  {
   "cell_type": "code",
   "execution_count": 5,
   "id": "a235badc",
   "metadata": {},
   "outputs": [
    {
     "data": {
      "text/latex": [
       "$\\displaystyle \\left\\{x\\; \\middle|\\; x \\in \\mathbb{C} \\wedge - 12 x^{4} \\sin{\\left(\\cos{\\left(x \\right)} \\right)} - 18 x^{3} + 5 x^{2} + 10 x - 30 = 0 \\right\\}$"
      ],
      "text/plain": [
       "ConditionSet(x, Eq(-12*x**4*sin(cos(x)) - 18*x**3 + 5*x**2 + 10*x - 30, 0), Complexes)"
      ]
     },
     "execution_count": 5,
     "metadata": {},
     "output_type": "execute_result"
    }
   ],
   "source": [
    "ans"
   ]
  },
  {
   "cell_type": "code",
   "execution_count": 6,
   "id": "17d8a0ea",
   "metadata": {},
   "outputs": [],
   "source": [
    "x = np.arange(-5, 5, 0.01)"
   ]
  },
  {
   "cell_type": "code",
   "execution_count": 7,
   "id": "3d13e30f",
   "metadata": {},
   "outputs": [],
   "source": [
    "f = f = -12*(x**4)*np.sin(np.cos(x)) - 18*x**3 + 5*x**2 + 10*x - 30"
   ]
  },
  {
   "cell_type": "code",
   "execution_count": 8,
   "id": "921055d7",
   "metadata": {
    "scrolled": true
   },
   "outputs": [
    {
     "data": {
      "image/png": "[encoded data removed]",
      "text/plain": [
       "<Figure size 432x288 with 1 Axes>"
      ]
     },
     "metadata": {
      "needs_background": "light"
     },
     "output_type": "display_data"
    }
   ],
   "source": [
    "plt.plot(x,f)\n",
    "plt.grid(color='g')"
   ]
  },
  {
   "cell_type": "markdown",
   "id": "af84b536",
   "metadata": {},
   "source": [
    "Рассмотрен проммежуток (-6; 6)\n",
    "\n",
    "Функция возрастает на промежутках f (-6;-4,2), (1,4;3,8)\n",
    "\n",
    "Функция убывает на промежутках f (-4,2;-1,6), (3,8;5)\n",
    "\n",
    "x = -4,2 max (вершина)\n",
    "\n",
    "x = 5 min (вершина)\n",
    "\n",
    "Функция больше нуля на промежутке (-6; -1,7), (2,3;4,8)\n",
    "\n",
    "Функция меньше нуля на промежутке (-1,7;2,3), (4,8;5,3)"
   ]
  }
 ],
 "metadata": {
  "kernelspec": {
   "display_name": "Python 3 (ipykernel)",
   "language": "python",
   "name": "python3"
  },
  "language_info": {
   "codemirror_mode": {
    "name": "ipython",
    "version": 3
   },
   "file_extension": ".py",
   "mimetype": "text/x-python",
   "name": "python",
   "nbconvert_exporter": "python",
   "pygments_lexer": "ipython3",
   "version": "3.9.12"
  }
 },
 "nbformat": 4,
 "nbformat_minor": 5
}
