{
 "cells": [
  {
   "cell_type": "markdown",
   "id": "7cbc558e",
   "metadata": {},
   "source": [
    "Задача 1\n",
    "\n",
    "Даны значения зарплат из выборки выпускников: 100, 80, 75, 77, 89, 33, 45, 25, 65, 17, 30, 24, 57, 55, 70, 75, 65, 84, 90, 150.\n",
    "Посчитать (желательно без использования статистических методов наподобие std, var, mean) среднее арифметическое, среднее квадратичное отклонение, смещенную и несмещенную оценки дисперсий для данной выборки."
   ]
  },
  {
   "cell_type": "code",
   "execution_count": 1,
   "id": "5c4628c2",
   "metadata": {},
   "outputs": [],
   "source": [
    "import numpy as np\n",
    "salary = [100, 80, 75, 77, 89, 33, 45, 25, 65, 17, 30, 24, 57, 55, 70, 75, 65, 84, 90, 150]"
   ]
  },
  {
   "cell_type": "code",
   "execution_count": 2,
   "id": "1c0ecf34",
   "metadata": {},
   "outputs": [
    {
     "data": {
      "text/plain": [
       "65.3"
      ]
     },
     "execution_count": 2,
     "metadata": {},
     "output_type": "execute_result"
    }
   ],
   "source": [
    "salary_avg = sum(salary)/len(salary)\n",
    "salary_avg"
   ]
  },
  {
   "cell_type": "code",
   "execution_count": 3,
   "id": "2a08a3f3",
   "metadata": {},
   "outputs": [
    {
     "data": {
      "text/plain": [
       "65.3"
      ]
     },
     "execution_count": 3,
     "metadata": {},
     "output_type": "execute_result"
    }
   ],
   "source": [
    "np.mean(salary)"
   ]
  },
  {
   "cell_type": "markdown",
   "id": "019c9ed7",
   "metadata": {},
   "source": [
    "Ответ: среднее арифметическое 65.3"
   ]
  },
  {
   "cell_type": "code",
   "execution_count": 4,
   "id": "492b65d4",
   "metadata": {},
   "outputs": [
    {
     "data": {
      "text/plain": [
       "31.624607341019814"
      ]
     },
     "execution_count": 4,
     "metadata": {},
     "output_type": "execute_result"
    }
   ],
   "source": [
    "def unbiased_std(data: list):\n",
    "    avg = sum(data)/len(data)\n",
    "    summa = 0\n",
    "    for s in data:\n",
    "        summa += (s - avg)**2\n",
    "    return np.sqrt(summa/(len(data)-1))\n",
    "salary_std = unbiased_std(salary)\n",
    "salary_std"
   ]
  },
  {
   "cell_type": "code",
   "execution_count": 5,
   "id": "85022d1b",
   "metadata": {},
   "outputs": [
    {
     "data": {
      "text/plain": [
       "31.624607341019814"
      ]
     },
     "execution_count": 5,
     "metadata": {},
     "output_type": "execute_result"
    }
   ],
   "source": [
    "np.std(salary, ddof=1)"
   ]
  },
  {
   "cell_type": "markdown",
   "id": "3ae4d5fa",
   "metadata": {},
   "source": [
    "Ответ: среднее квадратичное отклонение 31.62"
   ]
  },
  {
   "cell_type": "code",
   "execution_count": 6,
   "id": "03bdabbc",
   "metadata": {},
   "outputs": [
    {
     "data": {
      "text/plain": [
       "950.11"
      ]
     },
     "execution_count": 6,
     "metadata": {},
     "output_type": "execute_result"
    }
   ],
   "source": [
    "def shift_var(data):\n",
    "    avg = sum(data)/len(data)\n",
    "    summa = 0\n",
    "    for s in data:\n",
    "        summa += (s - avg)**2\n",
    "    return summa/len(data)\n",
    "salary_var = shift_var(salary)\n",
    "salary_var"
   ]
  },
  {
   "cell_type": "code",
   "execution_count": 7,
   "id": "32d5f2e1",
   "metadata": {},
   "outputs": [
    {
     "data": {
      "text/plain": [
       "950.11"
      ]
     },
     "execution_count": 7,
     "metadata": {},
     "output_type": "execute_result"
    }
   ],
   "source": [
    "np.var(salary)"
   ]
  },
  {
   "cell_type": "markdown",
   "id": "0eafa12b",
   "metadata": {},
   "source": [
    "Ответ: смещенная 950.11"
   ]
  },
  {
   "cell_type": "code",
   "execution_count": 8,
   "id": "a3d32c06",
   "metadata": {},
   "outputs": [
    {
     "data": {
      "text/plain": [
       "1000.1157894736842"
      ]
     },
     "execution_count": 8,
     "metadata": {},
     "output_type": "execute_result"
    }
   ],
   "source": [
    "def unbiased_var(data):\n",
    "    avg = sum(data)/len(data)\n",
    "    summa = 0\n",
    "    for s in data:\n",
    "        summa += (s - avg)**2\n",
    "    return summa/(len(data)-1)\n",
    "salary_un_var = unbiased_var(salary)\n",
    "salary_un_var"
   ]
  },
  {
   "cell_type": "code",
   "execution_count": 9,
   "id": "65aa1ddb",
   "metadata": {},
   "outputs": [
    {
     "data": {
      "text/plain": [
       "1000.1157894736842"
      ]
     },
     "execution_count": 9,
     "metadata": {},
     "output_type": "execute_result"
    }
   ],
   "source": [
    "np.var(salary, ddof=1)"
   ]
  },
  {
   "cell_type": "markdown",
   "id": "70f4e4ea",
   "metadata": {},
   "source": [
    "Ответ: несмещенная 1000.12"
   ]
  },
  {
   "cell_type": "markdown",
   "id": "4b75ac46",
   "metadata": {},
   "source": [
    "Задача 2\n",
    "\n",
    "В первом ящике находится 8 мячей, из которых 5 - белые. Во втором ящике - 12 мячей, из которых 5 белых. Из первого ящика вытаскивают случайным образом два мяча, из второго - 4. Какова вероятность того, что 3 мяча белые?"
   ]
  },
  {
   "cell_type": "code",
   "execution_count": 10,
   "id": "a49b818d",
   "metadata": {},
   "outputs": [],
   "source": [
    "def combi(a,b):\n",
    "    return np.math.factorial(b)/(np.math.factorial(a)*np.math.factorial(b-a))"
   ]
  },
  {
   "cell_type": "code",
   "execution_count": 11,
   "id": "7d7cb6cb",
   "metadata": {},
   "outputs": [
    {
     "data": {
      "text/plain": [
       "0.3686868686868687"
      ]
     },
     "execution_count": 11,
     "metadata": {},
     "output_type": "execute_result"
    }
   ],
   "source": [
    "P = (combi(2,5)*combi(1,5)*combi(3,7)+\n",
    "     combi(1,5)*combi(1,3)*combi(2,5)*combi(2,7)+\n",
    "     combi(2,3)*combi(3,5)*combi(1,7))/(combi(2,8)*combi(4,12))\n",
    "P"
   ]
  },
  {
   "cell_type": "markdown",
   "id": "15b74b05",
   "metadata": {},
   "source": [
    "Ответ: 36,86%"
   ]
  },
  {
   "cell_type": "markdown",
   "id": "2012791c",
   "metadata": {},
   "source": [
    "Задача 3\n",
    "\n",
    "На соревновании по биатлону один из трех спортсменов стреляет и попадает в мишень. Вероятность попадания для первого спортсмена равна 0.9, для второго — 0.8, для третьего — 0.6.\n",
    "Найти вероятность того, что выстрел произведен:\n",
    "a) первым спортсменом\n",
    "б) вторым спортсменом\n",
    "в) третьим спортсменом"
   ]
  },
  {
   "cell_type": "code",
   "execution_count": 12,
   "id": "46cf33c2",
   "metadata": {},
   "outputs": [
    {
     "data": {
      "text/plain": [
       "0.7666666666666666"
      ]
     },
     "execution_count": 12,
     "metadata": {},
     "output_type": "execute_result"
    }
   ],
   "source": [
    "P_A = 0.9/3+0.8/3+0.6/3\n",
    "P_A"
   ]
  },
  {
   "cell_type": "code",
   "execution_count": 13,
   "id": "11643941",
   "metadata": {},
   "outputs": [
    {
     "data": {
      "text/plain": [
       "0.391304347826087"
      ]
     },
     "execution_count": 13,
     "metadata": {},
     "output_type": "execute_result"
    }
   ],
   "source": [
    "P_B1A = 0.9/3/P_A\n",
    "P_B1A"
   ]
  },
  {
   "cell_type": "markdown",
   "id": "0b2e98a5",
   "metadata": {},
   "source": [
    "Ответ: первым спортсменом 0.39"
   ]
  },
  {
   "cell_type": "code",
   "execution_count": 14,
   "id": "a634fac6",
   "metadata": {},
   "outputs": [
    {
     "data": {
      "text/plain": [
       "0.3478260869565218"
      ]
     },
     "execution_count": 14,
     "metadata": {},
     "output_type": "execute_result"
    }
   ],
   "source": [
    "P_B2A = 0.8/3/P_A\n",
    "P_B2A"
   ]
  },
  {
   "cell_type": "markdown",
   "id": "6a140aa8",
   "metadata": {},
   "source": [
    "Ответ: вторым спортсменом 0.35"
   ]
  },
  {
   "cell_type": "code",
   "execution_count": 15,
   "id": "44f62e21",
   "metadata": {},
   "outputs": [
    {
     "data": {
      "text/plain": [
       "0.2608695652173913"
      ]
     },
     "execution_count": 15,
     "metadata": {},
     "output_type": "execute_result"
    }
   ],
   "source": [
    "P_B3A = 0.6/3/P_A\n",
    "P_B3A"
   ]
  },
  {
   "cell_type": "markdown",
   "id": "1973e5e4",
   "metadata": {},
   "source": [
    "Ответ: третьим спортсменом 0.26"
   ]
  },
  {
   "cell_type": "markdown",
   "id": "f53293a7",
   "metadata": {},
   "source": [
    "Задача 4\n",
    "\n",
    "В университет на факультеты A и B поступило равное количество студентов, а на факультет C студентов поступило столько же, сколько на A и B вместе. Вероятность того, что студент факультета A сдаст первую сессию, равна 0.8. Для студента факультета B эта вероятность равна 0.7, а для студента факультета C - 0.9.\n",
    "Студент сдал первую сессию. Какова вероятность, что он учится:\n",
    "a) на факультете A\n",
    "б) на факультете B\n",
    "в) на факультете C"
   ]
  },
  {
   "cell_type": "code",
   "execution_count": 16,
   "id": "b95b0839",
   "metadata": {},
   "outputs": [
    {
     "data": {
      "text/plain": [
       "0.825"
      ]
     },
     "execution_count": 16,
     "metadata": {},
     "output_type": "execute_result"
    }
   ],
   "source": [
    "P_A = 0.8/4+0.7/4+0.9/2\n",
    "P_A"
   ]
  },
  {
   "cell_type": "code",
   "execution_count": 17,
   "id": "6050d5a9",
   "metadata": {},
   "outputs": [
    {
     "data": {
      "text/plain": [
       "0.24242424242424246"
      ]
     },
     "execution_count": 17,
     "metadata": {},
     "output_type": "execute_result"
    }
   ],
   "source": [
    "P_B1A = 0.8/4/P_A\n",
    "P_B1A"
   ]
  },
  {
   "cell_type": "markdown",
   "id": "dd6106ac",
   "metadata": {},
   "source": [
    "Ответ: на факультете A 24.24%"
   ]
  },
  {
   "cell_type": "code",
   "execution_count": 18,
   "id": "85db822b",
   "metadata": {},
   "outputs": [
    {
     "data": {
      "text/plain": [
       "0.21212121212121213"
      ]
     },
     "execution_count": 18,
     "metadata": {},
     "output_type": "execute_result"
    }
   ],
   "source": [
    "P_B2A = 0.7/4/P_A\n",
    "P_B2A"
   ]
  },
  {
   "cell_type": "markdown",
   "id": "034ff93c",
   "metadata": {},
   "source": [
    "Ответ: на факультете B 21.21%"
   ]
  },
  {
   "cell_type": "code",
   "execution_count": 19,
   "id": "d795dd01",
   "metadata": {},
   "outputs": [
    {
     "data": {
      "text/plain": [
       "0.5454545454545455"
      ]
     },
     "execution_count": 19,
     "metadata": {},
     "output_type": "execute_result"
    }
   ],
   "source": [
    "P_B3A = 0.9/2/P_A\n",
    "P_B3A"
   ]
  },
  {
   "cell_type": "markdown",
   "id": "12e08e18",
   "metadata": {},
   "source": [
    "Ответ: на факультете C 54.54%"
   ]
  },
  {
   "cell_type": "markdown",
   "id": "aa16220d",
   "metadata": {},
   "source": [
    "Задача 5\n",
    "\n",
    "Устройство состоит из трех деталей. Для первой детали вероятность выйти из строя в первый месяц равна 0.1, для второй - 0.2, для третьей - 0.25.\n",
    "Какова вероятность того, что в первый месяц выйдут из строя:\n",
    "а) все детали\n",
    "б) только две детали\n",
    "в) хотя бы одна деталь\n",
    "г) от одной до двух деталей"
   ]
  },
  {
   "cell_type": "code",
   "execution_count": 20,
   "id": "2f1155f1",
   "metadata": {},
   "outputs": [
    {
     "data": {
      "text/plain": [
       "0.005000000000000001"
      ]
     },
     "execution_count": 20,
     "metadata": {},
     "output_type": "execute_result"
    }
   ],
   "source": [
    "P_all = 0.1*0.2*0.25\n",
    "P_all"
   ]
  },
  {
   "cell_type": "markdown",
   "id": "08369554",
   "metadata": {},
   "source": [
    "Ответ: все детали 0.5%"
   ]
  },
  {
   "cell_type": "code",
   "execution_count": 21,
   "id": "fe868ba8",
   "metadata": {},
   "outputs": [
    {
     "data": {
      "text/plain": [
       "0.08000000000000002"
      ]
     },
     "execution_count": 21,
     "metadata": {},
     "output_type": "execute_result"
    }
   ],
   "source": [
    "P_2 = 0.1*0.2*0.75+0.1*0.8*0.25+0.9*0.2*0.25\n",
    "P_2"
   ]
  },
  {
   "cell_type": "markdown",
   "id": "2d88d155",
   "metadata": {},
   "source": [
    "Ответ: только две детали 8%"
   ]
  },
  {
   "cell_type": "code",
   "execution_count": 22,
   "id": "b21df871",
   "metadata": {},
   "outputs": [
    {
     "data": {
      "text/plain": [
       "0.45999999999999996"
      ]
     },
     "execution_count": 22,
     "metadata": {},
     "output_type": "execute_result"
    }
   ],
   "source": [
    "P_1 = 1 - 0.9*0.8*0.75\n",
    "P_1"
   ]
  },
  {
   "cell_type": "markdown",
   "id": "7f62af23",
   "metadata": {},
   "source": [
    "Ответ: хотя бы одна деталь 46%"
   ]
  },
  {
   "cell_type": "code",
   "execution_count": 23,
   "id": "4c1debcd",
   "metadata": {},
   "outputs": [
    {
     "data": {
      "text/plain": [
       "0.45499999999999996"
      ]
     },
     "execution_count": 23,
     "metadata": {},
     "output_type": "execute_result"
    }
   ],
   "source": [
    "P_1_2 = P_1 - P_all\n",
    "P_1_2"
   ]
  },
  {
   "cell_type": "markdown",
   "id": "9b1aae70",
   "metadata": {},
   "source": [
    "Ответ: от одной до двух деталей 45.5%"
   ]
  }
 ],
 "metadata": {
  "kernelspec": {
   "display_name": "Python 3 (ipykernel)",
   "language": "python",
   "name": "python3"
  },
  "language_info": {
   "codemirror_mode": {
    "name": "ipython",
    "version": 3
   },
   "file_extension": ".py",
   "mimetype": "text/x-python",
   "name": "python",
   "nbconvert_exporter": "python",
   "pygments_lexer": "ipython3",
   "version": "3.9.12"
  }
 },
 "nbformat": 4,
 "nbformat_minor": 5
}
