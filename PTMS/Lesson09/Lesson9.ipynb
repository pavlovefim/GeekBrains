{
 "cells": [
  {
   "cell_type": "markdown",
   "id": "fc3ca9d4",
   "metadata": {},
   "source": [
    "Задача 1.\n",
    "\n",
    "Даны значения величины заработной платы заемщиков банка (zp) и значения их поведенческого кредитного скоринга (ks):\n",
    "\n",
    "zp = [35, 45, 190, 200, 40, 70, 54, 150, 120, 110]\n",
    "\n",
    "ks = [401, 574, 874, 919, 459, 739, 653, 902, 746, 832].\n",
    "\n",
    "Используя математические операции, посчитать коэффициенты линейной регрессии, приняв за X заработную плату (то есть, zp - признак), а за y - значения скорингового балла (то есть, ks - целевая переменная). Произвести расчет как с использованием intercept, так и без."
   ]
  },
  {
   "cell_type": "code",
   "execution_count": 1,
   "id": "26c53832",
   "metadata": {},
   "outputs": [],
   "source": [
    "import scipy.stats as stats\n",
    "import numpy as np"
   ]
  },
  {
   "cell_type": "code",
   "execution_count": 2,
   "id": "d8eecd0c",
   "metadata": {},
   "outputs": [],
   "source": [
    "zp = np.array([35, 45, 190, 200, 40, 70, 54, 150, 120, 110])\n",
    "ks = np.array([401, 574, 874, 919, 459, 739, 653, 902, 746, 832])\n",
    "n = len(zp)"
   ]
  },
  {
   "cell_type": "code",
   "execution_count": 3,
   "id": "865233ec",
   "metadata": {},
   "outputs": [
    {
     "data": {
      "text/plain": [
       "2.6205388824027653"
      ]
     },
     "execution_count": 3,
     "metadata": {},
     "output_type": "execute_result"
    }
   ],
   "source": [
    "b1 = (n*np.sum(zp*ks) - np.sum(zp)*np.sum(ks))/(n*np.sum(zp**2) - (np.sum(zp))**2)\n",
    "b1"
   ]
  },
  {
   "cell_type": "code",
   "execution_count": 4,
   "id": "d998fcc0",
   "metadata": {},
   "outputs": [
    {
     "data": {
      "text/plain": [
       "444.17735732435955"
      ]
     },
     "execution_count": 4,
     "metadata": {},
     "output_type": "execute_result"
    }
   ],
   "source": [
    "b0 = np.mean(ks) - b1*np.mean(zp)\n",
    "b0"
   ]
  },
  {
   "cell_type": "markdown",
   "id": "a445dbc2",
   "metadata": {},
   "source": [
    "Задача 2.\n",
    "\n",
    "Посчитать коэффициент линейной регрессии при заработной плате (zp), используя градиентный спуск (без intercept)."
   ]
  },
  {
   "cell_type": "code",
   "execution_count": 5,
   "id": "955e7a0c",
   "metadata": {},
   "outputs": [],
   "source": [
    "def mse_(B1: float, y: list, x: list, n: int):\n",
    "    return np.sum((B1*x-y)**2/n)"
   ]
  },
  {
   "cell_type": "code",
   "execution_count": 6,
   "id": "1da0e1d9",
   "metadata": {},
   "outputs": [],
   "source": [
    "alpha = 1e-6\n",
    "B1 = 0.1\n",
    "n = len(zp)"
   ]
  },
  {
   "cell_type": "code",
   "execution_count": 7,
   "id": "c8e10628",
   "metadata": {},
   "outputs": [
    {
     "name": "stdout",
     "output_type": "stream",
     "text": [
      "Iteration = 0, B1 = 0.25952808, mse = 493237.7212546963\n",
      "Iteration = 100, B1 = 5.54537842245223, mse = 58151.31823171113\n",
      "Iteration = 200, B1 = 5.868748638669329, mse = 56522.97550129376\n",
      "Iteration = 300, B1 = 5.888531320728348, mse = 56516.88130936021\n",
      "Iteration = 400, B1 = 5.8897415574471985, mse = 56516.85850140054\n",
      "Iteration = 500, B1 = 5.889815595583751, mse = 56516.858416040086\n",
      "Iteration = 600, B1 = 5.889820124983314, mse = 56516.85841572061\n",
      "Iteration = 700, B1 = 5.889820402076462, mse = 56516.85841571942\n",
      "Iteration = 800, B1 = 5.88982041902807, mse = 56516.858415719405\n",
      "Iteration = 900, B1 = 5.889820420065112, mse = 56516.858415719405\n",
      "Iteration = 1000, B1 = 5.8898204201285544, mse = 56516.858415719405\n",
      "Iteration = 1100, B1 = 5.889820420132437, mse = 56516.8584157194\n"
     ]
    }
   ],
   "source": [
    "for i in range(1200):\n",
    "    B1 -= alpha*(2/n) * np.sum((B1*zp-ks)*zp)\n",
    "    if i % 100 == 0:\n",
    "        print('Iteration = {i}, B1 = {B1}, mse = {mse}'.format(i= i, B1= B1, mse= mse_(B1,ks,zp,n)))"
   ]
  },
  {
   "cell_type": "code",
   "execution_count": 8,
   "id": "5f37d522",
   "metadata": {},
   "outputs": [
    {
     "data": {
      "text/plain": [
       "56516.858421464"
      ]
     },
     "execution_count": 8,
     "metadata": {},
     "output_type": "execute_result"
    }
   ],
   "source": [
    "mse_(5.8898,ks,zp,n)"
   ]
  },
  {
   "cell_type": "markdown",
   "id": "93197f2e",
   "metadata": {},
   "source": [
    "Задача 3\n",
    "\n",
    "Произвести вычисления как в пункте 2, но с вычислением intercept. Учесть, что изменение коэффициентов должно производиться на каждом шаге одновременно (то есть изменение одного коэффициента не должно влиять на изменение другого во время одной итерации)."
   ]
  },
  {
   "cell_type": "code",
   "execution_count": 9,
   "id": "c6439f7b",
   "metadata": {},
   "outputs": [],
   "source": [
    "def mse_intercept(B0: float, B1: float, y: list, x: list, n: int):\n",
    "    return np.sum((B0+B1*x-y)**2/n)"
   ]
  },
  {
   "cell_type": "code",
   "execution_count": 10,
   "id": "6140c939",
   "metadata": {},
   "outputs": [],
   "source": [
    "alpha = 1e-5\n",
    "B0 = 0.1\n",
    "B1 = 0.1\n",
    "n = len(zp)"
   ]
  },
  {
   "cell_type": "code",
   "execution_count": 11,
   "id": "cbab9693",
   "metadata": {},
   "outputs": [
    {
     "name": "stdout",
     "output_type": "stream",
     "text": [
      "Iteration = 0, B0 = 0.1139932, B1 = 1.6950780000000003, mse = 298805.38996099564\n",
      "Iteration = 100000, B0 = 176.8178756872003, B1 = 4.588422873669245, mse = 24602.659099649114\n",
      "Iteration = 200000, B0 = 283.1956881772298, B1 = 3.805435141410038, mse = 13044.165160847471\n",
      "Iteration = 300000, B0 = 347.24756959921285, B1 = 3.333984975180734, mse = 8853.693377127487\n",
      "Iteration = 400000, B0 = 385.81429152799836, B1 = 3.0501168504576253, mse = 7334.45965488598\n",
      "Iteration = 500000, B0 = 409.0359675710964, B1 = 2.8791950478876815, mse = 6783.669380682819\n",
      "Iteration = 600000, B0 = 423.0181317603773, B1 = 2.77628013758468, mse = 6583.983235150707\n",
      "Iteration = 700000, B0 = 431.43702947702633, B1 = 2.7143133281816474, mse = 6511.588063004361\n",
      "Iteration = 800000, B0 = 436.50619028818244, B1 = 2.677002063406801, mse = 6485.341570358935\n",
      "Iteration = 900000, B0 = 439.55841781180436, B1 = 2.6545363193656377, mse = 6475.8260411356305\n",
      "Iteration = 1000000, B0 = 441.396215664944, B1 = 2.6410093146294247, mse = 6472.376235570253\n",
      "Iteration = 1100000, B0 = 442.502784858385, B1 = 2.632864476123355, mse = 6471.125526528265\n",
      "Iteration = 1200000, B0 = 443.1690688992334, B1 = 2.6279603310016144, mse = 6470.672088478477\n",
      "Iteration = 1300000, B0 = 443.57024979758313, B1 = 2.625007462217497, mse = 6470.507696874922\n",
      "Iteration = 1400000, B0 = 443.8118076067508, B1 = 2.62322948994318, mse = 6470.44809755516\n",
      "Iteration = 1500000, B0 = 443.95725365219454, B1 = 2.6221589427433236, mse = 6470.426490132159\n",
      "Iteration = 1600000, B0 = 444.04482917793496, B1 = 2.62151434815451, mse = 6470.418656473474\n",
      "Iteration = 1700000, B0 = 444.09755988427065, B1 = 2.621126226842295, mse = 6470.415816421319\n",
      "Iteration = 1800000, B0 = 444.12930993504966, B1 = 2.6208925324310575, mse = 6470.4147867752\n",
      "Iteration = 1900000, B0 = 444.14842717802156, B1 = 2.620751821070566, mse = 6470.414413482362\n"
     ]
    }
   ],
   "source": [
    "for i in range(2000000):\n",
    "    k = B1\n",
    "    b = B0\n",
    "    B1 -= alpha*(2/n) * np.sum((B1*zp+b-ks)*zp)\n",
    "    B0 -= alpha*(2/n) * np.sum(k*zp+B0-ks)\n",
    "    \n",
    "    if i % 100000 == 0:\n",
    "        print('Iteration = {i}, B0 = {B0}, B1 = {B1}, mse = {mse}'.format(i= i,B0= B0, \n",
    "                                                                          B1= B1, mse= mse_intercept(B0,B1,ks,zp,n)))"
   ]
  },
  {
   "cell_type": "markdown",
   "id": "aab16220",
   "metadata": {},
   "source": [
    "Ответ: y = 444.17 + 2.62 * x"
   ]
  }
 ],
 "metadata": {
  "kernelspec": {
   "display_name": "Python 3 (ipykernel)",
   "language": "python",
   "name": "python3"
  },
  "language_info": {
   "codemirror_mode": {
    "name": "ipython",
    "version": 3
   },
   "file_extension": ".py",
   "mimetype": "text/x-python",
   "name": "python",
   "nbconvert_exporter": "python",
   "pygments_lexer": "ipython3",
   "version": "3.9.12"
  }
 },
 "nbformat": 4,
 "nbformat_minor": 5
}
