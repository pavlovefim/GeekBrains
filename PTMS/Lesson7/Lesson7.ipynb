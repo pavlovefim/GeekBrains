{
 "cells": [
  {
   "cell_type": "code",
   "execution_count": 1,
   "id": "b8393339",
   "metadata": {},
   "outputs": [],
   "source": [
    "import numpy as np\n",
    "import scipy.stats as stats"
   ]
  },
  {
   "cell_type": "markdown",
   "id": "16dc4982",
   "metadata": {},
   "source": [
    "Задача 1.\n",
    "\n",
    "Даны две независимые выборки. Не соблюдается условие нормальности\n",
    "\n",
    "x1 380,420, 290\n",
    "\n",
    "y1 140,360,200,900\n",
    "\n",
    "Сделайте вывод по результатам, полученным с помощью функции"
   ]
  },
  {
   "cell_type": "code",
   "execution_count": 2,
   "id": "e76a5ba1",
   "metadata": {},
   "outputs": [],
   "source": [
    "x1 = [380,420, 290]\n",
    "y1 = [140,360,200,900]"
   ]
  },
  {
   "cell_type": "code",
   "execution_count": 3,
   "id": "8d6e278a",
   "metadata": {},
   "outputs": [
    {
     "data": {
      "text/plain": [
       "MannwhitneyuResult(statistic=8.0, pvalue=0.6285714285714286)"
      ]
     },
     "execution_count": 3,
     "metadata": {},
     "output_type": "execute_result"
    }
   ],
   "source": [
    "stats.mannwhitneyu(x1,y1)"
   ]
  },
  {
   "cell_type": "markdown",
   "id": "ce11e28d",
   "metadata": {},
   "source": [
    "Из полученных данных можем сделать вывод, что различия в выборках не являются статистически значимыми, и мы принимаем нулевую гипотезу."
   ]
  },
  {
   "cell_type": "markdown",
   "id": "6e397661",
   "metadata": {},
   "source": [
    "Задача 2.\n",
    "\n",
    "Исследовалось влияние препарата на уровень давления пациентов.\n",
    "\n",
    "Сначала измерялось давление до приема препарата, потом через 10 минут и через 30 минут.\n",
    "\n",
    "Есть ли статистически значимые различия?\n",
    "\n",
    "1е измерение до приема препарата: 150, 160, 165, 145, 155\n",
    "\n",
    "2е измерение через 10 минут: 140, 155, 150, 130, 135\n",
    "\n",
    "3е измерение через 30 минут: 130, 130, 120, 130, 125"
   ]
  },
  {
   "cell_type": "code",
   "execution_count": 4,
   "id": "ab700ac4",
   "metadata": {},
   "outputs": [],
   "source": [
    "dimen_start = [150, 160, 165, 145, 155]\n",
    "dimen_10 = [140, 155, 150, 130, 135]\n",
    "dimen_30 = [130, 130, 120, 130, 125]"
   ]
  },
  {
   "cell_type": "code",
   "execution_count": 5,
   "id": "aeea8284",
   "metadata": {},
   "outputs": [
    {
     "data": {
      "text/plain": [
       "KruskalResult(statistic=10.213868613138692, pvalue=0.006054616097364561)"
      ]
     },
     "execution_count": 5,
     "metadata": {},
     "output_type": "execute_result"
    }
   ],
   "source": [
    "stats.kruskal(dimen_start, dimen_10, dimen_30)"
   ]
  },
  {
   "cell_type": "markdown",
   "id": "3466593a",
   "metadata": {},
   "source": [
    "Вывод: имеются статистически значимые различия, значит принимаем альтернативную гипотезу, согласно которой, препарат влияет на уровень давления у пациентов"
   ]
  },
  {
   "cell_type": "markdown",
   "id": "2bfff5ec",
   "metadata": {},
   "source": [
    "Задача 3.\n",
    "\n",
    "Сравните 1 и 2 е измерения, предполагая, что 3го измерения через 30 минут не было."
   ]
  },
  {
   "cell_type": "code",
   "execution_count": 6,
   "id": "e779d94c",
   "metadata": {},
   "outputs": [
    {
     "data": {
      "text/plain": [
       "WilcoxonResult(statistic=0.0, pvalue=0.0625)"
      ]
     },
     "execution_count": 6,
     "metadata": {},
     "output_type": "execute_result"
    }
   ],
   "source": [
    "stats.wilcoxon(dimen_start, dimen_10)"
   ]
  },
  {
   "cell_type": "markdown",
   "id": "89570785",
   "metadata": {},
   "source": [
    "Для статистической значимости α = 0.05 есть статистически значимые различия (принимаем альтернативную гипотезу), но если возьмем \n",
    "α = 0.1, то различий наблюдатьт не будем и примем нулевую гипотезу."
   ]
  },
  {
   "cell_type": "markdown",
   "id": "2bb99be8",
   "metadata": {},
   "source": [
    "Задача 4.\n",
    "\n",
    "Даны 3 группы учеников плавания.\n",
    "\n",
    "В 1 группе время на дистанцию 50 м составляют:\n",
    "\n",
    "56, 60, 62, 55, 71, 67, 59, 58, 64, 67\n",
    "\n",
    "Вторая группа : 57, 58, 69, 48, 72, 70, 68, 71, 50, 53\n",
    "\n",
    "Третья группа: 57, 67, 49, 48, 47, 55, 66, 51, 54"
   ]
  },
  {
   "cell_type": "code",
   "execution_count": 7,
   "id": "e32e75e3",
   "metadata": {},
   "outputs": [],
   "source": [
    "gr1 = np.array([56, 60, 62, 55, 71, 67, 59, 58, 64, 67])\n",
    "gr2 = np.array([57, 58, 69, 48, 72, 70, 68, 71, 50, 53])\n",
    "gr3 = np.array([57, 67, 49, 48, 47, 55, 66, 51, 54])"
   ]
  },
  {
   "cell_type": "code",
   "execution_count": 8,
   "id": "b6cbd6b2",
   "metadata": {},
   "outputs": [
    {
     "data": {
      "text/plain": [
       "KruskalResult(statistic=5.465564058257224, pvalue=0.0650380998590494)"
      ]
     },
     "execution_count": 8,
     "metadata": {},
     "output_type": "execute_result"
    }
   ],
   "source": [
    "stats.kruskal(gr1, gr2, gr3)"
   ]
  },
  {
   "cell_type": "markdown",
   "id": "feb0928d",
   "metadata": {},
   "source": [
    "Статистически значимых различий не обнаружено, верна нулевая гипотеза"
   ]
  },
  {
   "cell_type": "markdown",
   "id": "a2d71d97",
   "metadata": {},
   "source": [
    "Задача 5.\n",
    "\n",
    "Заявляется, что партия изготавливается со средним арифметическим 2,5 см.\n",
    "\n",
    "Проверить данную гипотезу, если известно, что размеры изделий подчинены нормальному закону распределения.\n",
    "\n",
    "Объем выборки 10, уровень статистической значимости 5%\n",
    "\n",
    "2.51, 2.35, 2.74, 2.56, 2.40, 2.36, 2.65, 2.7, 2.67, 2.34\n",
    "\n",
    "α = 0.05\n",
    "n = 10\n",
    "μ = 2.5 cм"
   ]
  },
  {
   "cell_type": "code",
   "execution_count": 9,
   "id": "d88856a7",
   "metadata": {},
   "outputs": [
    {
     "data": {
      "text/plain": [
       "2.5279999999999996"
      ]
     },
     "execution_count": 9,
     "metadata": {},
     "output_type": "execute_result"
    }
   ],
   "source": [
    "x = np.array([2.51, 2.35, 2.74, 2.56, 2.40, 2.36, 2.65, 2.7, 2.67, 2.34])\n",
    "mean = np.mean(x)\n",
    "mean"
   ]
  },
  {
   "cell_type": "code",
   "execution_count": 10,
   "id": "d9790011",
   "metadata": {},
   "outputs": [
    {
     "data": {
      "text/plain": [
       "0.1572542173961923"
      ]
     },
     "execution_count": 10,
     "metadata": {},
     "output_type": "execute_result"
    }
   ],
   "source": [
    "sigma = np.std(x,ddof=1)\n",
    "sigma"
   ]
  },
  {
   "cell_type": "code",
   "execution_count": 11,
   "id": "ffd1db41",
   "metadata": {},
   "outputs": [
    {
     "data": {
      "text/plain": [
       "0.5630613661802959"
      ]
     },
     "execution_count": 11,
     "metadata": {},
     "output_type": "execute_result"
    }
   ],
   "source": [
    "t_x = (mean - 2.5)/(sigma/np.sqrt(10))\n",
    "t_x"
   ]
  },
  {
   "cell_type": "markdown",
   "id": "2408ed85",
   "metadata": {},
   "source": [
    "табличное t = 2.262, рассчётное t = 0.56. Соответственно, принимаем нулевую гипотезу."
   ]
  }
 ],
 "metadata": {
  "kernelspec": {
   "display_name": "Python 3 (ipykernel)",
   "language": "python",
   "name": "python3"
  },
  "language_info": {
   "codemirror_mode": {
    "name": "ipython",
    "version": 3
   },
   "file_extension": ".py",
   "mimetype": "text/x-python",
   "name": "python",
   "nbconvert_exporter": "python",
   "pygments_lexer": "ipython3",
   "version": "3.9.12"
  }
 },
 "nbformat": 4,
 "nbformat_minor": 5
}
