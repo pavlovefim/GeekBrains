{
 "cells": [
  {
   "cell_type": "markdown",
   "id": "30eede4f",
   "metadata": {},
   "source": [
    "Задача 1\n",
    "\n",
    "Провести дисперсионный анализ для определения того, есть ли различия среднего роста среди взрослых футболистов, хоккеистов и штангистов. Даны значения роста в трех группах случайно выбранных спортсменов:\n",
    "\n",
    "Футболисты: 173, 175, 180, 178, 177, 185, 183, 182.\n",
    "Хоккеисты: 177, 179, 180, 188, 177, 172, 171, 184, 180.\n",
    "Штангисты: 172, 173, 169, 177, 166, 180, 178, 177, 172, 166, 170."
   ]
  },
  {
   "cell_type": "code",
   "execution_count": 1,
   "id": "c8b4d18a",
   "metadata": {},
   "outputs": [],
   "source": [
    "import numpy as np\n",
    "import scipy.stats as stats\n",
    "import pandas as pd\n",
    "import pylab\n",
    "from statsmodels.stats.multicomp import pairwise_tukeyhsd"
   ]
  },
  {
   "cell_type": "code",
   "execution_count": 2,
   "id": "5bbd99f6",
   "metadata": {},
   "outputs": [],
   "source": [
    "football = np.array([173, 175, 180, 178, 177, 185, 183, 182])\n",
    "hockey = np.array([177, 179, 180, 188, 177, 172, 171, 184, 180])\n",
    "powerlift = np.array([172, 173, 169, 177, 166, 180, 178, 177, 172, 166, 170])"
   ]
  },
  {
   "cell_type": "markdown",
   "id": "79747819",
   "metadata": {},
   "source": [
    "Проверяем на нормальность распределения наши выборки."
   ]
  },
  {
   "cell_type": "code",
   "execution_count": 3,
   "id": "e60cec1c",
   "metadata": {},
   "outputs": [
    {
     "data": {
      "text/plain": [
       "ShapiroResult(statistic=0.9775081276893616, pvalue=0.9495397210121155)"
      ]
     },
     "execution_count": 3,
     "metadata": {},
     "output_type": "execute_result"
    }
   ],
   "source": [
    "stats.shapiro(football)"
   ]
  },
  {
   "cell_type": "code",
   "execution_count": 4,
   "id": "0f434737",
   "metadata": {},
   "outputs": [
    {
     "data": {
      "text/plain": [
       "ShapiroResult(statistic=0.9579195976257324, pvalue=0.7763133645057678)"
      ]
     },
     "execution_count": 4,
     "metadata": {},
     "output_type": "execute_result"
    }
   ],
   "source": [
    "stats.shapiro(hockey)"
   ]
  },
  {
   "cell_type": "code",
   "execution_count": 5,
   "id": "3f906131",
   "metadata": {},
   "outputs": [
    {
     "data": {
      "text/plain": [
       "ShapiroResult(statistic=0.93868088722229, pvalue=0.5051169991493225)"
      ]
     },
     "execution_count": 5,
     "metadata": {},
     "output_type": "execute_result"
    }
   ],
   "source": [
    "stats.shapiro(powerlift)"
   ]
  },
  {
   "cell_type": "markdown",
   "id": "0d54b06b",
   "metadata": {},
   "source": [
    "Так как во всех трех случаях p-value получился больше α, то верна нулевая гипотеза, значит данные в выборках распределены нормально."
   ]
  },
  {
   "cell_type": "markdown",
   "id": "764c4258",
   "metadata": {},
   "source": [
    "Теперь проверим данные на равенство дисперсий с помощью теста Бартлетта."
   ]
  },
  {
   "cell_type": "code",
   "execution_count": 6,
   "id": "0157a103",
   "metadata": {},
   "outputs": [
    {
     "data": {
      "text/plain": [
       "BartlettResult(statistic=0.4640521043406442, pvalue=0.7929254656083131)"
      ]
     },
     "execution_count": 6,
     "metadata": {},
     "output_type": "execute_result"
    }
   ],
   "source": [
    "stats.bartlett(football, hockey, powerlift)"
   ]
  },
  {
   "cell_type": "markdown",
   "id": "fc918c59",
   "metadata": {},
   "source": [
    "Исходя из результата теста Бартлетта, получаем, что у нас во всех трех выборках дисперсии равны."
   ]
  },
  {
   "cell_type": "markdown",
   "id": "5de5ef9d",
   "metadata": {},
   "source": [
    "С помощью однофакторного критерия Фишера проводим дисперсионный анализ наших данных."
   ]
  },
  {
   "cell_type": "code",
   "execution_count": 7,
   "id": "890d2952",
   "metadata": {},
   "outputs": [
    {
     "data": {
      "text/plain": [
       "F_onewayResult(statistic=5.500053450812596, pvalue=0.010482206918698694)"
      ]
     },
     "execution_count": 7,
     "metadata": {},
     "output_type": "execute_result"
    }
   ],
   "source": [
    "stats.f_oneway(football, hockey, powerlift)"
   ]
  },
  {
   "cell_type": "markdown",
   "id": "f56d4c36",
   "metadata": {},
   "source": [
    "Так как p-value маленький, значит между выборками имеются статистические различия."
   ]
  },
  {
   "cell_type": "markdown",
   "id": "e5972a2d",
   "metadata": {},
   "source": [
    "Проведем post hoc test"
   ]
  },
  {
   "cell_type": "code",
   "execution_count": 8,
   "id": "72a3d374",
   "metadata": {},
   "outputs": [
    {
     "name": "stdout",
     "output_type": "stream",
     "text": [
      "   Multiple Comparison of Means - Tukey HSD, FWER=0.05    \n",
      "==========================================================\n",
      " group1    group2  meandiff p-adj   lower    upper  reject\n",
      "----------------------------------------------------------\n",
      "football    hockey  -0.4583  0.979  -6.2732  5.3566  False\n",
      "football powerlift  -6.3977 0.0219 -11.9583 -0.8372   True\n",
      "  hockey powerlift  -5.9394 0.0284 -11.3181 -0.5607   True\n",
      "----------------------------------------------------------\n"
     ]
    }
   ],
   "source": [
    "sportsmen = pd.DataFrame({'growth': [173, 175, 180, 178, 177, 185, 183, 182,\n",
    "                                   177, 179, 180, 188, 177, 172, 171, 184, 180,\n",
    "                                   172, 173, 169, 177, 166, 180, 178, 177, 172, 166, 170],\n",
    "                         'sport': np.repeat(['football', 'hockey', 'powerlift'], repeats= [len(football), len(hockey), len(powerlift)])})\n",
    "tukey = pairwise_tukeyhsd(endog= sportsmen['growth'],\n",
    "                         groups= sportsmen['sport'],\n",
    "                         alpha= 0.05)\n",
    "print(tukey)"
   ]
  },
  {
   "cell_type": "markdown",
   "id": "52a4d965",
   "metadata": {},
   "source": [
    "Мы видим, что между футболистами и штангистами, а также между хокеистами и штангистами обнаружены статистически значимые различия, поскольку p-adj < 0.05."
   ]
  },
  {
   "cell_type": "markdown",
   "id": "e697014b",
   "metadata": {},
   "source": [
    "Значит, что штангисты отличаются ростом от футболистов и хоккеистов. При этом футболисты и хоккеисты ростом не отличаются."
   ]
  }
 ],
 "metadata": {
  "kernelspec": {
   "display_name": "Python 3 (ipykernel)",
   "language": "python",
   "name": "python3"
  },
  "language_info": {
   "codemirror_mode": {
    "name": "ipython",
    "version": 3
   },
   "file_extension": ".py",
   "mimetype": "text/x-python",
   "name": "python",
   "nbconvert_exporter": "python",
   "pygments_lexer": "ipython3",
   "version": "3.9.12"
  }
 },
 "nbformat": 4,
 "nbformat_minor": 5
}
