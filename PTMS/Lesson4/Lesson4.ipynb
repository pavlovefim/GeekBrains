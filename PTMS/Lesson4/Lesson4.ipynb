{
 "cells": [
  {
   "cell_type": "markdown",
   "id": "231015e0",
   "metadata": {},
   "source": [
    "Задача 1.\n",
    "\n",
    "Случайная непрерывная величина A имеет равномерное распределение на промежутке (200, 800]. Найдите ее среднее значение(500) и дисперсию."
   ]
  },
  {
   "cell_type": "code",
   "execution_count": 1,
   "id": "0068f13d",
   "metadata": {},
   "outputs": [],
   "source": [
    "import numpy as np"
   ]
  },
  {
   "cell_type": "code",
   "execution_count": 2,
   "id": "2ac5288f",
   "metadata": {},
   "outputs": [
    {
     "data": {
      "text/plain": [
       "500.0"
      ]
     },
     "execution_count": 2,
     "metadata": {},
     "output_type": "execute_result"
    }
   ],
   "source": [
    "A = [200,800]\n",
    "A_mean = (200+800)/2\n",
    "A_mean"
   ]
  },
  {
   "cell_type": "code",
   "execution_count": 3,
   "id": "8add1cde",
   "metadata": {},
   "outputs": [
    {
     "data": {
      "text/plain": [
       "30000.0"
      ]
     },
     "execution_count": 3,
     "metadata": {},
     "output_type": "execute_result"
    }
   ],
   "source": [
    "D_A = ((800-200)**2)/12\n",
    "D_A"
   ]
  },
  {
   "cell_type": "markdown",
   "id": "a7cc9277",
   "metadata": {},
   "source": [
    "Задача 2.\n",
    "\n",
    "О случайной непрерывной равномерно распределенной величине B известно, что ее дисперсия равна 0.2. Можно ли найти правую границу величины B и ее среднее значение (0.775) зная, что левая граница равна 0.5? Если да, найдите ее."
   ]
  },
  {
   "cell_type": "code",
   "execution_count": 4,
   "id": "ebed06bf",
   "metadata": {},
   "outputs": [
    {
     "data": {
      "text/plain": [
       "9.6"
      ]
     },
     "execution_count": 4,
     "metadata": {},
     "output_type": "execute_result"
    }
   ],
   "source": [
    "d = (-1)**2-4*1*(-2.15)\n",
    "d"
   ]
  },
  {
   "cell_type": "code",
   "execution_count": 5,
   "id": "52dc6103",
   "metadata": {},
   "outputs": [
    {
     "data": {
      "text/plain": [
       "1.0491933384829668"
      ]
     },
     "execution_count": 5,
     "metadata": {},
     "output_type": "execute_result"
    }
   ],
   "source": [
    "x_1 = ((-1)+np.sqrt(9.6))/2\n",
    "x_1"
   ]
  },
  {
   "cell_type": "markdown",
   "id": "514d3178",
   "metadata": {},
   "source": [
    "Овет: правая граница величины B = 1.05"
   ]
  },
  {
   "cell_type": "code",
   "execution_count": 6,
   "id": "5b8f975b",
   "metadata": {},
   "outputs": [
    {
     "data": {
      "text/plain": [
       "-2.049193338482967"
      ]
     },
     "execution_count": 6,
     "metadata": {},
     "output_type": "execute_result"
    }
   ],
   "source": [
    "x_2 = ((-1)-np.sqrt(9.6))/2\n",
    "x_2"
   ]
  },
  {
   "cell_type": "code",
   "execution_count": 7,
   "id": "79823b28",
   "metadata": {},
   "outputs": [
    {
     "data": {
      "text/plain": [
       "0.775"
      ]
     },
     "execution_count": 7,
     "metadata": {},
     "output_type": "execute_result"
    }
   ],
   "source": [
    "M_B = (0.5+1.05)/2\n",
    "M_B"
   ]
  },
  {
   "cell_type": "markdown",
   "id": "99bf628b",
   "metadata": {},
   "source": [
    "Ответ: среднее значение В = 0.775"
   ]
  },
  {
   "cell_type": "markdown",
   "id": "c3c64a00",
   "metadata": {},
   "source": [
    "Задача 3.\n",
    "\n",
    "Непрерывная случайная величина X распределена нормально и задана плотностью распределения f(x) = (1 / (4 * sqrt(2pi))) * exp((-(x+2)**2) / 32) Найдите: а). M(X) б). D(X) в). std(X) (среднее квадратичное отклонение)"
   ]
  },
  {
   "cell_type": "markdown",
   "id": "85e9aa13",
   "metadata": {},
   "source": [
    "а). M(X) = -2\n",
    "б). D(X) = 16\n",
    "в). std(X) (среднее квадратичное отклонение) = 4"
   ]
  },
  {
   "cell_type": "markdown",
   "id": "814c97bf",
   "metadata": {},
   "source": [
    "Задача 4.\n",
    "\n",
    "Рост взрослого населения города X имеет нормальное распределение. Причем, средний рост равен 174 см, а среднее квадратичное отклонение равно 8 см. Какова вероятность того, что случайным образом выбранный взрослый человек имеет рост: а). больше 182 см б). больше 190 см в). от 166 см до 190 см г). от 166 см до 182 см д). от 158 см до 190 см е). не выше 150 см или не ниже 190 см ж). не выше 150 см или не ниже 198 см з). ниже 166 см."
   ]
  },
  {
   "cell_type": "code",
   "execution_count": 8,
   "id": "e9688876",
   "metadata": {},
   "outputs": [],
   "source": [
    "mu = 174\n",
    "sigma = 8"
   ]
  },
  {
   "cell_type": "code",
   "execution_count": 9,
   "id": "6d96c826",
   "metadata": {},
   "outputs": [
    {
     "data": {
      "text/plain": [
       "1.0"
      ]
     },
     "execution_count": 9,
     "metadata": {},
     "output_type": "execute_result"
    }
   ],
   "source": [
    "z_a = (182-mu)/sigma\n",
    "z_a"
   ]
  },
  {
   "cell_type": "code",
   "execution_count": 10,
   "id": "c075fcc9",
   "metadata": {},
   "outputs": [
    {
     "data": {
      "text/plain": [
       "0.15869999999999995"
      ]
     },
     "execution_count": 10,
     "metadata": {},
     "output_type": "execute_result"
    }
   ],
   "source": [
    "1-0.8413"
   ]
  },
  {
   "cell_type": "markdown",
   "id": "aa2bdad3",
   "metadata": {},
   "source": [
    "Ответ: больше 182 см (0.1587)"
   ]
  },
  {
   "cell_type": "code",
   "execution_count": 11,
   "id": "ee6f9a1a",
   "metadata": {},
   "outputs": [
    {
     "data": {
      "text/plain": [
       "2.0"
      ]
     },
     "execution_count": 11,
     "metadata": {},
     "output_type": "execute_result"
    }
   ],
   "source": [
    "z_b = (190-mu)/sigma\n",
    "z_b"
   ]
  },
  {
   "cell_type": "code",
   "execution_count": 12,
   "id": "c865a98f",
   "metadata": {},
   "outputs": [
    {
     "data": {
      "text/plain": [
       "0.022800000000000042"
      ]
     },
     "execution_count": 12,
     "metadata": {},
     "output_type": "execute_result"
    }
   ],
   "source": [
    "1-0.9772"
   ]
  },
  {
   "cell_type": "markdown",
   "id": "b4c5fde9",
   "metadata": {},
   "source": [
    "Ответ: больше 190 см (0.0228)"
   ]
  },
  {
   "cell_type": "code",
   "execution_count": 13,
   "id": "269bcd09",
   "metadata": {},
   "outputs": [
    {
     "data": {
      "text/plain": [
       "-1.0"
      ]
     },
     "execution_count": 13,
     "metadata": {},
     "output_type": "execute_result"
    }
   ],
   "source": [
    "z_v1 = (166-mu)/sigma\n",
    "z_v1"
   ]
  },
  {
   "cell_type": "code",
   "execution_count": 14,
   "id": "9289d60b",
   "metadata": {},
   "outputs": [
    {
     "data": {
      "text/plain": [
       "0.8185"
      ]
     },
     "execution_count": 14,
     "metadata": {},
     "output_type": "execute_result"
    }
   ],
   "source": [
    "0.9772-0.1587"
   ]
  },
  {
   "cell_type": "markdown",
   "id": "6c0ca7e6",
   "metadata": {},
   "source": [
    "Ответ: от 166 см до 190 см (0.8185)"
   ]
  },
  {
   "cell_type": "code",
   "execution_count": 15,
   "id": "b9aab069",
   "metadata": {},
   "outputs": [
    {
     "data": {
      "text/plain": [
       "2.0"
      ]
     },
     "execution_count": 15,
     "metadata": {},
     "output_type": "execute_result"
    }
   ],
   "source": [
    "z_g = z_a-z_v1\n",
    "z_g"
   ]
  },
  {
   "cell_type": "code",
   "execution_count": 16,
   "id": "63696f84",
   "metadata": {},
   "outputs": [
    {
     "data": {
      "text/plain": [
       "0.6826000000000001"
      ]
     },
     "execution_count": 16,
     "metadata": {},
     "output_type": "execute_result"
    }
   ],
   "source": [
    "0.8413-0.1587"
   ]
  },
  {
   "cell_type": "markdown",
   "id": "fdf77895",
   "metadata": {},
   "source": [
    "Ответ: от 166 см до 182 см (0.6826)"
   ]
  },
  {
   "cell_type": "code",
   "execution_count": 17,
   "id": "beff648c",
   "metadata": {},
   "outputs": [
    {
     "data": {
      "text/plain": [
       "-2.0"
      ]
     },
     "execution_count": 17,
     "metadata": {},
     "output_type": "execute_result"
    }
   ],
   "source": [
    "z_d = (158-mu)/sigma\n",
    "z_d"
   ]
  },
  {
   "cell_type": "code",
   "execution_count": 18,
   "id": "245f173e",
   "metadata": {},
   "outputs": [
    {
     "data": {
      "text/plain": [
       "0.9543999999999999"
      ]
     },
     "execution_count": 18,
     "metadata": {},
     "output_type": "execute_result"
    }
   ],
   "source": [
    "0.9772-0.0228"
   ]
  },
  {
   "cell_type": "markdown",
   "id": "c195ff8f",
   "metadata": {},
   "source": [
    "Ответ: от 158 см до 190 см (0.9544)"
   ]
  },
  {
   "cell_type": "code",
   "execution_count": 19,
   "id": "4432f9ca",
   "metadata": {},
   "outputs": [
    {
     "data": {
      "text/plain": [
       "-3.0"
      ]
     },
     "execution_count": 19,
     "metadata": {},
     "output_type": "execute_result"
    }
   ],
   "source": [
    "z_e1 = (150-mu)/sigma\n",
    "z_e1"
   ]
  },
  {
   "cell_type": "code",
   "execution_count": 20,
   "id": "0908645e",
   "metadata": {},
   "outputs": [
    {
     "data": {
      "text/plain": [
       "0.0241"
      ]
     },
     "execution_count": 20,
     "metadata": {},
     "output_type": "execute_result"
    }
   ],
   "source": [
    "z_e=0.0013+0.0228\n",
    "z_e"
   ]
  },
  {
   "cell_type": "markdown",
   "id": "49a4bb6d",
   "metadata": {},
   "source": [
    "Ответ: не выше 150 см или не ниже 190 см (0.0241)"
   ]
  },
  {
   "cell_type": "code",
   "execution_count": 21,
   "id": "b270411b",
   "metadata": {},
   "outputs": [
    {
     "data": {
      "text/plain": [
       "3.0"
      ]
     },
     "execution_count": 21,
     "metadata": {},
     "output_type": "execute_result"
    }
   ],
   "source": [
    "z_yo1 = (198-mu)/sigma\n",
    "z_yo1"
   ]
  },
  {
   "cell_type": "code",
   "execution_count": 22,
   "id": "dca0b1b9",
   "metadata": {},
   "outputs": [
    {
     "data": {
      "text/plain": [
       "0.0026999999999999568"
      ]
     },
     "execution_count": 22,
     "metadata": {},
     "output_type": "execute_result"
    }
   ],
   "source": [
    "z_yo = 1-0.9986 +0.0013\n",
    "z_yo"
   ]
  },
  {
   "cell_type": "markdown",
   "id": "0b289311",
   "metadata": {},
   "source": [
    "Ответ: ниже 166 см. (0.1587)"
   ]
  },
  {
   "cell_type": "markdown",
   "id": "c8fd67ca",
   "metadata": {},
   "source": [
    "Задача 5.\n",
    "\n",
    "На сколько сигм (средних квадратичных отклонений) отклоняется рост человека, равный 190 см, от математического ожидания роста в популяции, в которой M(X) = 178 см и D(X) = 25 кв.см?"
   ]
  },
  {
   "cell_type": "code",
   "execution_count": 23,
   "id": "adaa57e1",
   "metadata": {},
   "outputs": [
    {
     "data": {
      "text/plain": [
       "2.4"
      ]
     },
     "execution_count": 23,
     "metadata": {},
     "output_type": "execute_result"
    }
   ],
   "source": [
    "sigma_delta = (190-178)/np.sqrt(25)\n",
    "sigma_delta"
   ]
  },
  {
   "cell_type": "markdown",
   "id": "5c2321eb",
   "metadata": {},
   "source": [
    "Ответ: 2.4"
   ]
  }
 ],
 "metadata": {
  "kernelspec": {
   "display_name": "Python 3 (ipykernel)",
   "language": "python",
   "name": "python3"
  },
  "language_info": {
   "codemirror_mode": {
    "name": "ipython",
    "version": 3
   },
   "file_extension": ".py",
   "mimetype": "text/x-python",
   "name": "python",
   "nbconvert_exporter": "python",
   "pygments_lexer": "ipython3",
   "version": "3.9.12"
  }
 },
 "nbformat": 4,
 "nbformat_minor": 5
}
