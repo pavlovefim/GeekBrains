{
 "cells": [
  {
   "cell_type": "markdown",
   "id": "78c3d108",
   "metadata": {},
   "source": [
    "Задача 1. \n",
    "\n",
    "Вероятность того, что стрелок попадет в мишень, выстрелив один раз, равна 0.8. Стрелок выстрелил 100 раз. Найдите вероятность того, что стрелок попадет в цель ровно 85 раз."
   ]
  },
  {
   "cell_type": "code",
   "execution_count": 1,
   "id": "4c5c422e",
   "metadata": {},
   "outputs": [
    {
     "data": {
      "text/plain": [
       "0.048061793700746556"
      ]
     },
     "execution_count": 1,
     "metadata": {},
     "output_type": "execute_result"
    }
   ],
   "source": [
    "import numpy as np\n",
    "p_100 = (np.math.factorial(100)/(np.math.factorial(85)*np.math.factorial(15)))*0.8**85*0.2**15\n",
    "p_100"
   ]
  },
  {
   "cell_type": "markdown",
   "id": "16aee104",
   "metadata": {},
   "source": [
    "Ответ: 4,8%"
   ]
  },
  {
   "cell_type": "markdown",
   "id": "a04b0b3e",
   "metadata": {},
   "source": [
    "Задача 2.\n",
    "\n",
    "Вероятность того, что лампочка перегорит в течение первого дня эксплуатации, равна 0.0004. В жилом комплексе после ремонта в один день включили 5000 новых лампочек.\n",
    "Какова вероятность, что ни одна из них не перегорит в первый день?\n",
    "Какова вероятность, что перегорят ровно две?"
   ]
  },
  {
   "cell_type": "code",
   "execution_count": 2,
   "id": "80330bb0",
   "metadata": {},
   "outputs": [
    {
     "data": {
      "text/plain": [
       "0.1353352832366127"
      ]
     },
     "execution_count": 2,
     "metadata": {},
     "output_type": "execute_result"
    }
   ],
   "source": [
    "lam  = 5000*0.0004\n",
    "p_0 = np.exp(lam*(-1))\n",
    "p_0"
   ]
  },
  {
   "cell_type": "markdown",
   "id": "14ae518a",
   "metadata": {},
   "source": [
    "Ответ: вероятность, что ни одна из них не перегорит в первый день - 13,53%"
   ]
  },
  {
   "cell_type": "code",
   "execution_count": 3,
   "id": "677badf0",
   "metadata": {},
   "outputs": [
    {
     "data": {
      "text/plain": [
       "0.2706705664732254"
      ]
     },
     "execution_count": 3,
     "metadata": {},
     "output_type": "execute_result"
    }
   ],
   "source": [
    "p_2 = (lam**2/(np.math.factorial(2)))*np.exp(lam*(-1))\n",
    "p_2"
   ]
  },
  {
   "cell_type": "markdown",
   "id": "db5018da",
   "metadata": {},
   "source": [
    "Ответ: вероятность, что перегорят ровно две - 27,06%"
   ]
  },
  {
   "cell_type": "markdown",
   "id": "cea1b6d6",
   "metadata": {},
   "source": [
    "Задача 3.\n",
    "\n",
    "Монету подбросили 144 раза. Какова вероятность, что орел выпадет ровно 70 раз?"
   ]
  },
  {
   "cell_type": "code",
   "execution_count": 4,
   "id": "7536e9b2",
   "metadata": {},
   "outputs": [
    {
     "data": {
      "text/plain": [
       "0.06281178035144776"
      ]
     },
     "execution_count": 4,
     "metadata": {},
     "output_type": "execute_result"
    }
   ],
   "source": [
    "p_144_70 = (np.math.factorial(144)/(np.math.factorial(70)*np.math.factorial(74)))*0.5**70*0.5**74\n",
    "p_144_70"
   ]
  },
  {
   "cell_type": "markdown",
   "id": "643d508e",
   "metadata": {},
   "source": [
    "Ответ: 6,28%"
   ]
  },
  {
   "cell_type": "markdown",
   "id": "8f471875",
   "metadata": {},
   "source": [
    "Задача 4.\n",
    "\n",
    "В первом ящике находится 10 мячей, из которых 7 - белые. Во втором ящике - 11 мячей, из которых 9 белых. Из каждого ящика вытаскивают случайным образом по два мяча.\n",
    "Какова вероятность того, что все мячи белые?\n",
    "Какова вероятность того, что ровно два мяча белые?\n",
    "Какова вероятность того, что хотя бы один мяч белый?"
   ]
  },
  {
   "cell_type": "code",
   "execution_count": 5,
   "id": "ab83e8f9",
   "metadata": {},
   "outputs": [],
   "source": [
    "def combination(a,b):\n",
    "    return np.math.factorial(b)/(np.math.factorial(a)*np.math.factorial(b-a))"
   ]
  },
  {
   "cell_type": "code",
   "execution_count": 6,
   "id": "9e670f6f",
   "metadata": {},
   "outputs": [
    {
     "data": {
      "text/plain": [
       "0.3054545454545455"
      ]
     },
     "execution_count": 6,
     "metadata": {},
     "output_type": "execute_result"
    }
   ],
   "source": [
    "P1 = (combination(2,7)/combination(2,10))*(combination(2,9)/combination(2,11))\n",
    "P1"
   ]
  },
  {
   "cell_type": "markdown",
   "id": "02d862f8",
   "metadata": {},
   "source": [
    "Ответ: вероятность того, что все мячи белые - 30.54%"
   ]
  },
  {
   "cell_type": "code",
   "execution_count": 7,
   "id": "0b8630e9",
   "metadata": {},
   "outputs": [
    {
     "data": {
      "text/plain": [
       "0.20484848484848484"
      ]
     },
     "execution_count": 7,
     "metadata": {},
     "output_type": "execute_result"
    }
   ],
   "source": [
    "P2 = (combination(2,7)*combination(2,2)+combination(1,7)*combination(1,3)*combination(1,9)*combination(1,2)+\n",
    "      combination(2,3)*combination(2,9))/(combination(2,10)*combination(2,11))\n",
    "\n",
    "P2"
   ]
  },
  {
   "cell_type": "markdown",
   "id": "a3ee0015",
   "metadata": {},
   "source": [
    "Ответ: вероятность того, что ровно два мяча белые - 20.48%"
   ]
  },
  {
   "cell_type": "code",
   "execution_count": 8,
   "id": "8579643d",
   "metadata": {},
   "outputs": [
    {
     "data": {
      "text/plain": [
       "0.9987878787878788"
      ]
     },
     "execution_count": 8,
     "metadata": {},
     "output_type": "execute_result"
    }
   ],
   "source": [
    "P3 = 1 - (combination(2,3)*combination(2,2))/(combination(2,10)*combination(2,11))\n",
    "P3"
   ]
  },
  {
   "cell_type": "markdown",
   "id": "afb5ee0a",
   "metadata": {},
   "source": [
    "Ответ: вероятность того, что хотя бы один мяч белый - 99.88%"
   ]
  }
 ],
 "metadata": {
  "kernelspec": {
   "display_name": "Python 3 (ipykernel)",
   "language": "python",
   "name": "python3"
  },
  "language_info": {
   "codemirror_mode": {
    "name": "ipython",
    "version": 3
   },
   "file_extension": ".py",
   "mimetype": "text/x-python",
   "name": "python",
   "nbconvert_exporter": "python",
   "pygments_lexer": "ipython3",
   "version": "3.9.12"
  }
 },
 "nbformat": 4,
 "nbformat_minor": 5
}
