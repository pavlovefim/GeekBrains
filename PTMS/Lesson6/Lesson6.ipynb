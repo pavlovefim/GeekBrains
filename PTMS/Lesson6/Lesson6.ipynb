{
 "cells": [
  {
   "cell_type": "code",
   "execution_count": 1,
   "id": "cea4d2ef",
   "metadata": {},
   "outputs": [],
   "source": [
    "import numpy as np"
   ]
  },
  {
   "cell_type": "markdown",
   "id": "bbaa4e35",
   "metadata": {},
   "source": [
    "Задача 1.\n",
    "\n",
    "Известно, что генеральная совокупность распределена нормально со средним квадратическим отклонением, равным 16.\n",
    "\n",
    "Найти доверительный интервал для оценки математического ожидания a с надежностью 0.95, если выборочная средняя M = 80, а объем выборки n = 256.\n",
    "\n",
    "n = 256\n",
    "M = 80\n",
    "a = 0.95\n",
    "σ = 16"
   ]
  },
  {
   "cell_type": "code",
   "execution_count": 2,
   "id": "6764b9e5",
   "metadata": {},
   "outputs": [
    {
     "data": {
      "text/plain": [
       "81.96"
      ]
     },
     "execution_count": 2,
     "metadata": {},
     "output_type": "execute_result"
    }
   ],
   "source": [
    "80 + 1.96 *(16/np.sqrt(256))"
   ]
  },
  {
   "cell_type": "code",
   "execution_count": 3,
   "id": "ad7231b9",
   "metadata": {},
   "outputs": [
    {
     "data": {
      "text/plain": [
       "78.04"
      ]
     },
     "execution_count": 3,
     "metadata": {},
     "output_type": "execute_result"
    }
   ],
   "source": [
    "80 - 1.96 *(16/np.sqrt(256))"
   ]
  },
  {
   "cell_type": "markdown",
   "id": "b4ffef05",
   "metadata": {},
   "source": [
    "Доверительный интервал для оценки математического ожилания данной выборки принадлежит (78.04:81.96)"
   ]
  },
  {
   "cell_type": "markdown",
   "id": "6eb1faad",
   "metadata": {},
   "source": [
    "Задача 2.\n",
    "\n",
    "В результате 10 независимых измерений некоторой величины X, выполненных с одинаковой точностью, получены опытные данные:\n",
    "\n",
    "6.9, 6.1, 6.2, 6.8, 7.5, 6.3, 6.4, 6.9, 6.7, 6.1\n",
    "\n",
    "Предполагая, что результаты измерений подчинены нормальному закону распределения вероятностей,\n",
    "\n",
    "оценить истинное значение величины X при помощи доверительного интервала, покрывающего это значение с доверительной вероятностью 0,95."
   ]
  },
  {
   "cell_type": "code",
   "execution_count": 4,
   "id": "0ed80c2f",
   "metadata": {},
   "outputs": [
    {
     "data": {
      "text/plain": [
       "[6.9, 6.1, 6.2, 6.8, 7.5, 6.3, 6.4, 6.9, 6.7, 6.1]"
      ]
     },
     "execution_count": 4,
     "metadata": {},
     "output_type": "execute_result"
    }
   ],
   "source": [
    "import numpy as np\n",
    "X = [6.9, 6.1, 6.2, 6.8, 7.5, 6.3, 6.4, 6.9, 6.7, 6.1]\n",
    "X"
   ]
  },
  {
   "cell_type": "code",
   "execution_count": 5,
   "id": "b657671b",
   "metadata": {},
   "outputs": [
    {
     "data": {
      "text/plain": [
       "0.4508017549014448"
      ]
     },
     "execution_count": 5,
     "metadata": {},
     "output_type": "execute_result"
    }
   ],
   "source": [
    "sigma = np.std(X, ddof=1)\n",
    "sigma"
   ]
  },
  {
   "cell_type": "code",
   "execution_count": 6,
   "id": "27a74945",
   "metadata": {},
   "outputs": [
    {
     "data": {
      "text/plain": [
       "10"
      ]
     },
     "execution_count": 6,
     "metadata": {},
     "output_type": "execute_result"
    }
   ],
   "source": [
    "len(X)"
   ]
  },
  {
   "cell_type": "code",
   "execution_count": 7,
   "id": "f65972f0",
   "metadata": {},
   "outputs": [
    {
     "data": {
      "text/plain": [
       "6.590000000000001"
      ]
     },
     "execution_count": 7,
     "metadata": {},
     "output_type": "execute_result"
    }
   ],
   "source": [
    "X_avg = np.mean(X)\n",
    "X_avg"
   ]
  },
  {
   "cell_type": "code",
   "execution_count": 8,
   "id": "acea6b57",
   "metadata": {},
   "outputs": [
    {
     "data": {
      "text/plain": [
       "6.2675382559124255"
      ]
     },
     "execution_count": 8,
     "metadata": {},
     "output_type": "execute_result"
    }
   ],
   "source": [
    "6.59-2.262*(sigma/np.sqrt(10))"
   ]
  },
  {
   "cell_type": "code",
   "execution_count": 9,
   "id": "7411b622",
   "metadata": {},
   "outputs": [
    {
     "data": {
      "text/plain": [
       "6.912461744087574"
      ]
     },
     "execution_count": 9,
     "metadata": {},
     "output_type": "execute_result"
    }
   ],
   "source": [
    "6.59+2.262*(sigma/np.sqrt(10))"
   ]
  },
  {
   "cell_type": "markdown",
   "id": "89d78fa4",
   "metadata": {},
   "source": [
    "С вероятностью 95% истинное значение величины Х будет принадлежать интервалу (6.27; 6.91)"
   ]
  },
  {
   "cell_type": "markdown",
   "id": "a68a2b17",
   "metadata": {},
   "source": [
    "Задача 3.\n",
    "\n",
    "На препарате А положительный результат лечения наблюдается у 17 из 32 пациентов, а на препарате В у 9 из 22.\n",
    "\n",
    "Построить 95% доверительный интервал для разности долей.\n",
    "\n",
    "Обнаружены ли статистически значимые различия?\n",
    "\n",
    "n_a = 32 m_a = 7 p_a = 7/32 = 0.22\n",
    "\n",
    "n_b = 22 m_b = 9 p_b = 9/22 = 0.41"
   ]
  },
  {
   "cell_type": "code",
   "execution_count": 10,
   "id": "19f6d4cc",
   "metadata": {},
   "outputs": [
    {
     "data": {
      "text/plain": [
       "0.2962962962962963"
      ]
     },
     "execution_count": 10,
     "metadata": {},
     "output_type": "execute_result"
    }
   ],
   "source": [
    "p = (7+9)/(32+22)\n",
    "p"
   ]
  },
  {
   "cell_type": "code",
   "execution_count": 11,
   "id": "c8b81fcb",
   "metadata": {},
   "outputs": [
    {
     "data": {
      "text/plain": [
       "-1.8083589367045831"
      ]
     },
     "execution_count": 11,
     "metadata": {},
     "output_type": "execute_result"
    }
   ],
   "source": [
    "z = ((7/32 - 9/22) - 0.5*(1/32 + 1/22))/np.sqrt(p*(1-p)*(1/32 + 1/22))\n",
    "z"
   ]
  },
  {
   "cell_type": "markdown",
   "id": "3e3a9587",
   "metadata": {},
   "source": [
    "z_t = +/- 1.96"
   ]
  },
  {
   "cell_type": "markdown",
   "id": "acadffbe",
   "metadata": {},
   "source": [
    "Рассчётное значение z попадает в интервал, значит статистически значимых различий нет."
   ]
  }
 ],
 "metadata": {
  "kernelspec": {
   "display_name": "Python 3 (ipykernel)",
   "language": "python",
   "name": "python3"
  },
  "language_info": {
   "codemirror_mode": {
    "name": "ipython",
    "version": 3
   },
   "file_extension": ".py",
   "mimetype": "text/x-python",
   "name": "python",
   "nbconvert_exporter": "python",
   "pygments_lexer": "ipython3",
   "version": "3.9.12"
  }
 },
 "nbformat": 4,
 "nbformat_minor": 5
}
