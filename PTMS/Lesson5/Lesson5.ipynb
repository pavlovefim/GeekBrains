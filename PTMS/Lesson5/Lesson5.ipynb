{
 "cells": [
  {
   "cell_type": "markdown",
   "id": "fc324b69",
   "metadata": {},
   "source": [
    "Задача 1.\n",
    "\n",
    "Когда используется критерий Стьюдента, а когда Z –критерий?\n",
    "Z-критерий используется при соблюдениии нормальности выборки, известна σ генеральной совокупности.\n",
    "t-критерий, или критерий Стьюдента, используется в случае, если σ генеральной совокупности неизвестна, соблюдены нормальность выборки и равенство дисперсий в сравниваемых группах."
   ]
  },
  {
   "cell_type": "markdown",
   "id": "6e16f2db",
   "metadata": {},
   "source": [
    "Задача 2\n",
    "\n",
    "Проведите тест гипотезы. Утверждается, что шарики для подшипников, изготовленные автоматическим станком, имеют средний диаметр 17 мм. Используя односторонний критерий с α=0,05, проверить эту гипотезу, если в выборке из n=100 шариков средний диаметр оказался равным 17.5 мм, а дисперсия известна и равна 4 кв. мм.\n",
    "σ = 2 кв.мм.\n",
    "α = 0.05\n",
    "n = 100\n",
    "Xср = 17.5 мм\n",
    "μ = 17 мм"
   ]
  },
  {
   "cell_type": "code",
   "execution_count": 1,
   "id": "1fbc0f66",
   "metadata": {},
   "outputs": [
    {
     "data": {
      "text/plain": [
       "2.5"
      ]
     },
     "execution_count": 1,
     "metadata": {},
     "output_type": "execute_result"
    }
   ],
   "source": [
    "z = (17.5-17)/(2/10)\n",
    "z"
   ]
  },
  {
   "cell_type": "markdown",
   "id": "46882bfd",
   "metadata": {},
   "source": [
    "Так как расчетный z получился больше табличного (1.645), то отвергаем нулевую гипотезу и принимаем альтернативную."
   ]
  },
  {
   "cell_type": "markdown",
   "id": "062eb607",
   "metadata": {},
   "source": [
    "Задача 3\n",
    "\n",
    "Проведите тест гипотезы.\n",
    "\n",
    "Продавец утверждает, что средний вес пачки печенья составляет 200 г.\n",
    "\n",
    "Из партии извлечена выборка из 10 пачек. Вес каждой пачки составляет: 202, 203, 199, 197, 195, 201, 200, 204, 194, 190.\n",
    "\n",
    "Известно, что их веса распределены нормально.\n",
    "\n",
    "Верно ли утверждение продавца, если учитывать, что доверительная вероятность равна 99%? (Провести двусторонний тест.)\n",
    "σн = 4.225 гр\n",
    "α = 0.01\n",
    "n = 10\n",
    "Xср = 198.5 гр\n",
    "μ = 200 гр"
   ]
  },
  {
   "cell_type": "code",
   "execution_count": 2,
   "id": "4f87198d",
   "metadata": {},
   "outputs": [
    {
     "data": {
      "text/plain": [
       "4.453463071962462"
      ]
     },
     "execution_count": 2,
     "metadata": {},
     "output_type": "execute_result"
    }
   ],
   "source": [
    "import numpy as np\n",
    "cookie = [202, 203, 199, 197, 195, 201, 200, 204, 194, 190]\n",
    "sigma = np.std(cookie,ddof=1)\n",
    "sigma"
   ]
  },
  {
   "cell_type": "code",
   "execution_count": 3,
   "id": "b6398790",
   "metadata": {},
   "outputs": [
    {
     "data": {
      "text/plain": [
       "198.5"
      ]
     },
     "execution_count": 3,
     "metadata": {},
     "output_type": "execute_result"
    }
   ],
   "source": [
    "avg = np.mean(cookie)\n",
    "avg"
   ]
  },
  {
   "cell_type": "code",
   "execution_count": 4,
   "id": "f51c962e",
   "metadata": {},
   "outputs": [
    {
     "data": {
      "text/plain": [
       "-1.0651074037450896"
      ]
     },
     "execution_count": 4,
     "metadata": {},
     "output_type": "execute_result"
    }
   ],
   "source": [
    "t_n = (avg-200)/(sigma/np.sqrt(len(cookie)))\n",
    "t_n"
   ]
  },
  {
   "cell_type": "markdown",
   "id": "3604c671",
   "metadata": {},
   "source": [
    "Значение для t-критерия по таблице равен 3.25, а рассчетный равен -1.065. Таким образом принимаем нулевую гипотезу."
   ]
  },
  {
   "cell_type": "markdown",
   "id": "94cd6901",
   "metadata": {},
   "source": [
    "Задача 4.\n",
    "\n",
    "Задачу 4 решать с помощью функции.\n",
    "\n",
    "Есть ли статистически значимые различия в росте дочерей?\n",
    "Рост матерей 172, 177, 158, 170, 178,175, 164, 160, 169, 165\n",
    "Рост взрослых дочерей: 173, 175, 162, 174, 175, 168, 155, 170, 160"
   ]
  },
  {
   "cell_type": "code",
   "execution_count": null,
   "id": "93550276",
   "metadata": {},
   "outputs": [],
   "source": [
    "mothers = [172, 177, 158, 170, 178,175, 164, 160, 169]\n",
    "daughter = [173, 175, 162, 174, 175, 168, 155, 170, 160]\n",
    "stats.ttest_rel(mothers,daughter)"
   ]
  },
  {
   "cell_type": "markdown",
   "id": "f603d4e9",
   "metadata": {},
   "source": [
    "Ttest_relResult(statistic=0.559522990335608, pvalue=0.5911212354055175)"
   ]
  },
  {
   "cell_type": "markdown",
   "id": "167ea079",
   "metadata": {},
   "source": [
    "Для статистической значимости α = 0.05 статистически значимых различий нет."
   ]
  }
 ],
 "metadata": {
  "kernelspec": {
   "display_name": "Python 3 (ipykernel)",
   "language": "python",
   "name": "python3"
  },
  "language_info": {
   "codemirror_mode": {
    "name": "ipython",
    "version": 3
   },
   "file_extension": ".py",
   "mimetype": "text/x-python",
   "name": "python",
   "nbconvert_exporter": "python",
   "pygments_lexer": "ipython3",
   "version": "3.9.12"
  }
 },
 "nbformat": 4,
 "nbformat_minor": 5
}
